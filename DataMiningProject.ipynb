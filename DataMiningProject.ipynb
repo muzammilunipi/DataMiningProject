{
  "nbformat": 4,
  "nbformat_minor": 0,
  "metadata": {
    "colab": {
      "provenance": [],
      "collapsed_sections": [],
      "include_colab_link": true
    },
    "kernelspec": {
      "name": "python3",
      "display_name": "Python 3"
    },
    "language_info": {
      "name": "python"
    }
  },
  "cells": [
    {
      "cell_type": "markdown",
      "metadata": {
        "id": "view-in-github",
        "colab_type": "text"
      },
      "source": [
        "<a href=\"https://colab.research.google.com/github/muzammilunipi/DataMiningProject/blob/main/DataMiningProject.ipynb\" target=\"_parent\"><img src=\"https://colab.research.google.com/assets/colab-badge.svg\" alt=\"Open In Colab\"/></a>"
      ]
    },
    {
      "cell_type": "code",
      "source": [
        "!pip install matplotlib --upgrade matplotlib\n",
        "!pip install seaborn --upgrade seaborn"
      ],
      "metadata": {
        "colab": {
          "base_uri": "https://localhost:8080/",
          "height": 919
        },
        "id": "0UpY-SYNot8r",
        "outputId": "f017945e-c49d-4bf1-a8f9-e2ac850ef059"
      },
      "execution_count": 24,
      "outputs": [
        {
          "output_type": "stream",
          "name": "stdout",
          "text": [
            "Looking in indexes: https://pypi.org/simple, https://us-python.pkg.dev/colab-wheels/public/simple/\n",
            "Requirement already satisfied: matplotlib in /usr/local/lib/python3.7/dist-packages (3.2.2)\n",
            "Collecting matplotlib\n",
            "  Downloading matplotlib-3.5.3-cp37-cp37m-manylinux_2_5_x86_64.manylinux1_x86_64.whl (11.2 MB)\n",
            "\u001b[K     |████████████████████████████████| 11.2 MB 15.1 MB/s \n",
            "\u001b[?25hRequirement already satisfied: packaging>=20.0 in /usr/local/lib/python3.7/dist-packages (from matplotlib) (21.3)\n",
            "Requirement already satisfied: numpy>=1.17 in /usr/local/lib/python3.7/dist-packages (from matplotlib) (1.21.6)\n",
            "Collecting fonttools>=4.22.0\n",
            "  Downloading fonttools-4.37.4-py3-none-any.whl (960 kB)\n",
            "\u001b[K     |████████████████████████████████| 960 kB 57.5 MB/s \n",
            "\u001b[?25hRequirement already satisfied: python-dateutil>=2.7 in /usr/local/lib/python3.7/dist-packages (from matplotlib) (2.8.2)\n",
            "Requirement already satisfied: cycler>=0.10 in /usr/local/lib/python3.7/dist-packages (from matplotlib) (0.11.0)\n",
            "Requirement already satisfied: pyparsing>=2.2.1 in /usr/local/lib/python3.7/dist-packages (from matplotlib) (3.0.9)\n",
            "Requirement already satisfied: kiwisolver>=1.0.1 in /usr/local/lib/python3.7/dist-packages (from matplotlib) (1.4.4)\n",
            "Requirement already satisfied: pillow>=6.2.0 in /usr/local/lib/python3.7/dist-packages (from matplotlib) (7.1.2)\n",
            "Requirement already satisfied: typing-extensions in /usr/local/lib/python3.7/dist-packages (from kiwisolver>=1.0.1->matplotlib) (4.1.1)\n",
            "Requirement already satisfied: six>=1.5 in /usr/local/lib/python3.7/dist-packages (from python-dateutil>=2.7->matplotlib) (1.15.0)\n",
            "Installing collected packages: fonttools, matplotlib\n",
            "  Attempting uninstall: matplotlib\n",
            "    Found existing installation: matplotlib 3.2.2\n",
            "    Uninstalling matplotlib-3.2.2:\n",
            "      Successfully uninstalled matplotlib-3.2.2\n",
            "Successfully installed fonttools-4.37.4 matplotlib-3.5.3\n"
          ]
        },
        {
          "output_type": "display_data",
          "data": {
            "application/vnd.colab-display-data+json": {
              "pip_warning": {
                "packages": [
                  "matplotlib",
                  "mpl_toolkits"
                ]
              }
            }
          },
          "metadata": {}
        },
        {
          "output_type": "stream",
          "name": "stdout",
          "text": [
            "Looking in indexes: https://pypi.org/simple, https://us-python.pkg.dev/colab-wheels/public/simple/\n",
            "Requirement already satisfied: seaborn in /usr/local/lib/python3.7/dist-packages (0.11.2)\n",
            "Collecting seaborn\n",
            "  Downloading seaborn-0.12.1-py3-none-any.whl (288 kB)\n",
            "\u001b[K     |████████████████████████████████| 288 kB 13.5 MB/s \n",
            "\u001b[?25hRequirement already satisfied: pandas>=0.25 in /usr/local/lib/python3.7/dist-packages (from seaborn) (1.3.5)\n",
            "Requirement already satisfied: matplotlib!=3.6.1,>=3.1 in /usr/local/lib/python3.7/dist-packages (from seaborn) (3.5.3)\n",
            "Requirement already satisfied: typing_extensions in /usr/local/lib/python3.7/dist-packages (from seaborn) (4.1.1)\n",
            "Requirement already satisfied: numpy>=1.17 in /usr/local/lib/python3.7/dist-packages (from seaborn) (1.21.6)\n",
            "Requirement already satisfied: kiwisolver>=1.0.1 in /usr/local/lib/python3.7/dist-packages (from matplotlib!=3.6.1,>=3.1->seaborn) (1.4.4)\n",
            "Requirement already satisfied: pillow>=6.2.0 in /usr/local/lib/python3.7/dist-packages (from matplotlib!=3.6.1,>=3.1->seaborn) (7.1.2)\n",
            "Requirement already satisfied: packaging>=20.0 in /usr/local/lib/python3.7/dist-packages (from matplotlib!=3.6.1,>=3.1->seaborn) (21.3)\n",
            "Requirement already satisfied: pyparsing>=2.2.1 in /usr/local/lib/python3.7/dist-packages (from matplotlib!=3.6.1,>=3.1->seaborn) (3.0.9)\n",
            "Requirement already satisfied: cycler>=0.10 in /usr/local/lib/python3.7/dist-packages (from matplotlib!=3.6.1,>=3.1->seaborn) (0.11.0)\n",
            "Requirement already satisfied: fonttools>=4.22.0 in /usr/local/lib/python3.7/dist-packages (from matplotlib!=3.6.1,>=3.1->seaborn) (4.37.4)\n",
            "Requirement already satisfied: python-dateutil>=2.7 in /usr/local/lib/python3.7/dist-packages (from matplotlib!=3.6.1,>=3.1->seaborn) (2.8.2)\n",
            "Requirement already satisfied: pytz>=2017.3 in /usr/local/lib/python3.7/dist-packages (from pandas>=0.25->seaborn) (2022.4)\n",
            "Requirement already satisfied: six>=1.5 in /usr/local/lib/python3.7/dist-packages (from python-dateutil>=2.7->matplotlib!=3.6.1,>=3.1->seaborn) (1.15.0)\n",
            "Installing collected packages: seaborn\n",
            "  Attempting uninstall: seaborn\n",
            "    Found existing installation: seaborn 0.11.2\n",
            "    Uninstalling seaborn-0.11.2:\n",
            "      Successfully uninstalled seaborn-0.11.2\n",
            "Successfully installed seaborn-0.12.1\n"
          ]
        }
      ]
    },
    {
      "cell_type": "code",
      "execution_count": 1,
      "metadata": {
        "id": "d4_51yBVG_yh"
      },
      "outputs": [],
      "source": [
        "#Libaries\n",
        "import pandas as pd\n",
        "import numpy as np\n",
        "from matplotlib import pyplot as plt\n",
        "import matplotlib\n",
        "import seaborn as sns\n",
        "sns.set_theme(style=\"whitegrid\")"
      ]
    },
    {
      "cell_type": "code",
      "source": [
        "from google.colab import drive\n",
        "drive.mount('/content/drive')"
      ],
      "metadata": {
        "colab": {
          "base_uri": "https://localhost:8080/"
        },
        "id": "IrJPcqn7mYeF",
        "outputId": "1a301824-575f-45a3-fc09-fdb5b0d2f8af"
      },
      "execution_count": 2,
      "outputs": [
        {
          "output_type": "stream",
          "name": "stdout",
          "text": [
            "Drive already mounted at /content/drive; to attempt to forcibly remount, call drive.mount(\"/content/drive\", force_remount=True).\n"
          ]
        }
      ]
    },
    {
      "cell_type": "code",
      "source": [
        "#Importing the dataset\n",
        "df=pd.read_csv(\"/content/drive/Shareddrives/UnipiSharedDrive/ravdess_features.csv\")"
      ],
      "metadata": {
        "id": "x81qzx1vGmaL"
      },
      "execution_count": 3,
      "outputs": []
    },
    {
      "cell_type": "code",
      "source": [
        "#Displaying the first 5 records\n",
        "df.head(5)"
      ],
      "metadata": {
        "id": "CdsN73boINm-",
        "outputId": "cbf5865c-f5f7-432b-d149-695c6a888fb1",
        "colab": {
          "base_uri": "https://localhost:8080/",
          "height": 473
        }
      },
      "execution_count": 4,
      "outputs": [
        {
          "output_type": "execute_result",
          "data": {
            "text/plain": [
              "     modality vocal_channel    emotion emotional_intensity  \\\n",
              "0  audio-only        speech    fearful              normal   \n",
              "1  audio-only        speech      angry              normal   \n",
              "2  audio-only           NaN      happy              strong   \n",
              "3  audio-only           NaN  surprised              normal   \n",
              "4  audio-only          song      happy              strong   \n",
              "\n",
              "                      statement repetition  actor sex  channels  sample_width  \\\n",
              "0  Dogs are sitting by the door        2nd    2.0   F         1             2   \n",
              "1  Dogs are sitting by the door        1st   16.0   F         1             2   \n",
              "2  Dogs are sitting by the door        2nd   16.0   F         1             2   \n",
              "3  Kids are talking by the door        1st   14.0   F         1             2   \n",
              "4  Dogs are sitting by the door        2nd    2.0   F         1             2   \n",
              "\n",
              "   ...  stft_min  stft_max  stft_kur  stft_skew          mean       std  \\\n",
              "0  ...       0.0       1.0 -1.215025   0.403514  3.844916e-07  0.014482   \n",
              "1  ...       0.0       1.0 -1.384174   0.290905 -7.149491e-08  0.020417   \n",
              "2  ...       0.0       1.0 -1.242947   0.470350  2.429985e-06  0.024317   \n",
              "3  ...       0.0       1.0 -1.445318   0.274756  2.373929e-07  0.003561   \n",
              "4  ...       0.0       1.0 -1.366742   0.318926  8.454691e-07  0.027522   \n",
              "\n",
              "        min       max        kur      skew  \n",
              "0 -0.128632  0.138947   9.406061  0.273153  \n",
              "1 -0.305725  0.263062  19.564187  0.292157  \n",
              "2 -0.137482  0.166351   4.881241  0.302659  \n",
              "3 -0.027374  0.024078  13.040259 -0.081014  \n",
              "4 -0.192169  0.242676   7.485109  0.414872  \n",
              "\n",
              "[5 rows x 38 columns]"
            ],
            "text/html": [
              "\n",
              "  <div id=\"df-1fe35e78-686d-412c-9134-2032e8222afe\">\n",
              "    <div class=\"colab-df-container\">\n",
              "      <div>\n",
              "<style scoped>\n",
              "    .dataframe tbody tr th:only-of-type {\n",
              "        vertical-align: middle;\n",
              "    }\n",
              "\n",
              "    .dataframe tbody tr th {\n",
              "        vertical-align: top;\n",
              "    }\n",
              "\n",
              "    .dataframe thead th {\n",
              "        text-align: right;\n",
              "    }\n",
              "</style>\n",
              "<table border=\"1\" class=\"dataframe\">\n",
              "  <thead>\n",
              "    <tr style=\"text-align: right;\">\n",
              "      <th></th>\n",
              "      <th>modality</th>\n",
              "      <th>vocal_channel</th>\n",
              "      <th>emotion</th>\n",
              "      <th>emotional_intensity</th>\n",
              "      <th>statement</th>\n",
              "      <th>repetition</th>\n",
              "      <th>actor</th>\n",
              "      <th>sex</th>\n",
              "      <th>channels</th>\n",
              "      <th>sample_width</th>\n",
              "      <th>...</th>\n",
              "      <th>stft_min</th>\n",
              "      <th>stft_max</th>\n",
              "      <th>stft_kur</th>\n",
              "      <th>stft_skew</th>\n",
              "      <th>mean</th>\n",
              "      <th>std</th>\n",
              "      <th>min</th>\n",
              "      <th>max</th>\n",
              "      <th>kur</th>\n",
              "      <th>skew</th>\n",
              "    </tr>\n",
              "  </thead>\n",
              "  <tbody>\n",
              "    <tr>\n",
              "      <th>0</th>\n",
              "      <td>audio-only</td>\n",
              "      <td>speech</td>\n",
              "      <td>fearful</td>\n",
              "      <td>normal</td>\n",
              "      <td>Dogs are sitting by the door</td>\n",
              "      <td>2nd</td>\n",
              "      <td>2.0</td>\n",
              "      <td>F</td>\n",
              "      <td>1</td>\n",
              "      <td>2</td>\n",
              "      <td>...</td>\n",
              "      <td>0.0</td>\n",
              "      <td>1.0</td>\n",
              "      <td>-1.215025</td>\n",
              "      <td>0.403514</td>\n",
              "      <td>3.844916e-07</td>\n",
              "      <td>0.014482</td>\n",
              "      <td>-0.128632</td>\n",
              "      <td>0.138947</td>\n",
              "      <td>9.406061</td>\n",
              "      <td>0.273153</td>\n",
              "    </tr>\n",
              "    <tr>\n",
              "      <th>1</th>\n",
              "      <td>audio-only</td>\n",
              "      <td>speech</td>\n",
              "      <td>angry</td>\n",
              "      <td>normal</td>\n",
              "      <td>Dogs are sitting by the door</td>\n",
              "      <td>1st</td>\n",
              "      <td>16.0</td>\n",
              "      <td>F</td>\n",
              "      <td>1</td>\n",
              "      <td>2</td>\n",
              "      <td>...</td>\n",
              "      <td>0.0</td>\n",
              "      <td>1.0</td>\n",
              "      <td>-1.384174</td>\n",
              "      <td>0.290905</td>\n",
              "      <td>-7.149491e-08</td>\n",
              "      <td>0.020417</td>\n",
              "      <td>-0.305725</td>\n",
              "      <td>0.263062</td>\n",
              "      <td>19.564187</td>\n",
              "      <td>0.292157</td>\n",
              "    </tr>\n",
              "    <tr>\n",
              "      <th>2</th>\n",
              "      <td>audio-only</td>\n",
              "      <td>NaN</td>\n",
              "      <td>happy</td>\n",
              "      <td>strong</td>\n",
              "      <td>Dogs are sitting by the door</td>\n",
              "      <td>2nd</td>\n",
              "      <td>16.0</td>\n",
              "      <td>F</td>\n",
              "      <td>1</td>\n",
              "      <td>2</td>\n",
              "      <td>...</td>\n",
              "      <td>0.0</td>\n",
              "      <td>1.0</td>\n",
              "      <td>-1.242947</td>\n",
              "      <td>0.470350</td>\n",
              "      <td>2.429985e-06</td>\n",
              "      <td>0.024317</td>\n",
              "      <td>-0.137482</td>\n",
              "      <td>0.166351</td>\n",
              "      <td>4.881241</td>\n",
              "      <td>0.302659</td>\n",
              "    </tr>\n",
              "    <tr>\n",
              "      <th>3</th>\n",
              "      <td>audio-only</td>\n",
              "      <td>NaN</td>\n",
              "      <td>surprised</td>\n",
              "      <td>normal</td>\n",
              "      <td>Kids are talking by the door</td>\n",
              "      <td>1st</td>\n",
              "      <td>14.0</td>\n",
              "      <td>F</td>\n",
              "      <td>1</td>\n",
              "      <td>2</td>\n",
              "      <td>...</td>\n",
              "      <td>0.0</td>\n",
              "      <td>1.0</td>\n",
              "      <td>-1.445318</td>\n",
              "      <td>0.274756</td>\n",
              "      <td>2.373929e-07</td>\n",
              "      <td>0.003561</td>\n",
              "      <td>-0.027374</td>\n",
              "      <td>0.024078</td>\n",
              "      <td>13.040259</td>\n",
              "      <td>-0.081014</td>\n",
              "    </tr>\n",
              "    <tr>\n",
              "      <th>4</th>\n",
              "      <td>audio-only</td>\n",
              "      <td>song</td>\n",
              "      <td>happy</td>\n",
              "      <td>strong</td>\n",
              "      <td>Dogs are sitting by the door</td>\n",
              "      <td>2nd</td>\n",
              "      <td>2.0</td>\n",
              "      <td>F</td>\n",
              "      <td>1</td>\n",
              "      <td>2</td>\n",
              "      <td>...</td>\n",
              "      <td>0.0</td>\n",
              "      <td>1.0</td>\n",
              "      <td>-1.366742</td>\n",
              "      <td>0.318926</td>\n",
              "      <td>8.454691e-07</td>\n",
              "      <td>0.027522</td>\n",
              "      <td>-0.192169</td>\n",
              "      <td>0.242676</td>\n",
              "      <td>7.485109</td>\n",
              "      <td>0.414872</td>\n",
              "    </tr>\n",
              "  </tbody>\n",
              "</table>\n",
              "<p>5 rows × 38 columns</p>\n",
              "</div>\n",
              "      <button class=\"colab-df-convert\" onclick=\"convertToInteractive('df-1fe35e78-686d-412c-9134-2032e8222afe')\"\n",
              "              title=\"Convert this dataframe to an interactive table.\"\n",
              "              style=\"display:none;\">\n",
              "        \n",
              "  <svg xmlns=\"http://www.w3.org/2000/svg\" height=\"24px\"viewBox=\"0 0 24 24\"\n",
              "       width=\"24px\">\n",
              "    <path d=\"M0 0h24v24H0V0z\" fill=\"none\"/>\n",
              "    <path d=\"M18.56 5.44l.94 2.06.94-2.06 2.06-.94-2.06-.94-.94-2.06-.94 2.06-2.06.94zm-11 1L8.5 8.5l.94-2.06 2.06-.94-2.06-.94L8.5 2.5l-.94 2.06-2.06.94zm10 10l.94 2.06.94-2.06 2.06-.94-2.06-.94-.94-2.06-.94 2.06-2.06.94z\"/><path d=\"M17.41 7.96l-1.37-1.37c-.4-.4-.92-.59-1.43-.59-.52 0-1.04.2-1.43.59L10.3 9.45l-7.72 7.72c-.78.78-.78 2.05 0 2.83L4 21.41c.39.39.9.59 1.41.59.51 0 1.02-.2 1.41-.59l7.78-7.78 2.81-2.81c.8-.78.8-2.07 0-2.86zM5.41 20L4 18.59l7.72-7.72 1.47 1.35L5.41 20z\"/>\n",
              "  </svg>\n",
              "      </button>\n",
              "      \n",
              "  <style>\n",
              "    .colab-df-container {\n",
              "      display:flex;\n",
              "      flex-wrap:wrap;\n",
              "      gap: 12px;\n",
              "    }\n",
              "\n",
              "    .colab-df-convert {\n",
              "      background-color: #E8F0FE;\n",
              "      border: none;\n",
              "      border-radius: 50%;\n",
              "      cursor: pointer;\n",
              "      display: none;\n",
              "      fill: #1967D2;\n",
              "      height: 32px;\n",
              "      padding: 0 0 0 0;\n",
              "      width: 32px;\n",
              "    }\n",
              "\n",
              "    .colab-df-convert:hover {\n",
              "      background-color: #E2EBFA;\n",
              "      box-shadow: 0px 1px 2px rgba(60, 64, 67, 0.3), 0px 1px 3px 1px rgba(60, 64, 67, 0.15);\n",
              "      fill: #174EA6;\n",
              "    }\n",
              "\n",
              "    [theme=dark] .colab-df-convert {\n",
              "      background-color: #3B4455;\n",
              "      fill: #D2E3FC;\n",
              "    }\n",
              "\n",
              "    [theme=dark] .colab-df-convert:hover {\n",
              "      background-color: #434B5C;\n",
              "      box-shadow: 0px 1px 3px 1px rgba(0, 0, 0, 0.15);\n",
              "      filter: drop-shadow(0px 1px 2px rgba(0, 0, 0, 0.3));\n",
              "      fill: #FFFFFF;\n",
              "    }\n",
              "  </style>\n",
              "\n",
              "      <script>\n",
              "        const buttonEl =\n",
              "          document.querySelector('#df-1fe35e78-686d-412c-9134-2032e8222afe button.colab-df-convert');\n",
              "        buttonEl.style.display =\n",
              "          google.colab.kernel.accessAllowed ? 'block' : 'none';\n",
              "\n",
              "        async function convertToInteractive(key) {\n",
              "          const element = document.querySelector('#df-1fe35e78-686d-412c-9134-2032e8222afe');\n",
              "          const dataTable =\n",
              "            await google.colab.kernel.invokeFunction('convertToInteractive',\n",
              "                                                     [key], {});\n",
              "          if (!dataTable) return;\n",
              "\n",
              "          const docLinkHtml = 'Like what you see? Visit the ' +\n",
              "            '<a target=\"_blank\" href=https://colab.research.google.com/notebooks/data_table.ipynb>data table notebook</a>'\n",
              "            + ' to learn more about interactive tables.';\n",
              "          element.innerHTML = '';\n",
              "          dataTable['output_type'] = 'display_data';\n",
              "          await google.colab.output.renderOutput(dataTable, element);\n",
              "          const docLink = document.createElement('div');\n",
              "          docLink.innerHTML = docLinkHtml;\n",
              "          element.appendChild(docLink);\n",
              "        }\n",
              "      </script>\n",
              "    </div>\n",
              "  </div>\n",
              "  "
            ]
          },
          "metadata": {},
          "execution_count": 4
        }
      ]
    },
    {
      "cell_type": "code",
      "source": [
        "#Displaying the last 5 records\n",
        "df.tail(5)"
      ],
      "metadata": {
        "colab": {
          "base_uri": "https://localhost:8080/",
          "height": 473
        },
        "id": "2KCBGWRMK2Ze",
        "outputId": "6b00eae7-5b61-4f7b-8890-1c48bb925890"
      },
      "execution_count": 5,
      "outputs": [
        {
          "output_type": "execute_result",
          "data": {
            "text/plain": [
              "        modality vocal_channel    emotion emotional_intensity  \\\n",
              "2447  audio-only        speech       calm              strong   \n",
              "2448  audio-only        speech       calm              normal   \n",
              "2449  audio-only          song        sad              strong   \n",
              "2450  audio-only        speech  surprised              normal   \n",
              "2451  audio-only           NaN    neutral              normal   \n",
              "\n",
              "                         statement repetition  actor sex  channels  \\\n",
              "2447  Kids are talking by the door        1st   23.0   M         1   \n",
              "2448  Dogs are sitting by the door        1st   23.0   M         1   \n",
              "2449  Dogs are sitting by the door        2nd   23.0   M         1   \n",
              "2450  Kids are talking by the door        1st    NaN   M         1   \n",
              "2451  Dogs are sitting by the door        2nd   23.0   M         1   \n",
              "\n",
              "      sample_width  ...  stft_min  stft_max  stft_kur  stft_skew  \\\n",
              "2447             2  ...  0.000000       1.0 -1.075888  -0.310088   \n",
              "2448             2  ...  0.000000       1.0 -1.026071  -0.408018   \n",
              "2449             2  ...  0.000000       1.0 -1.473789   0.130310   \n",
              "2450             2  ...  0.001565       1.0 -1.277117  -0.242668   \n",
              "2451             2  ...  0.000000       1.0 -1.257666  -0.237757   \n",
              "\n",
              "              mean       std       min       max        kur      skew  \n",
              "2447  9.367040e-07  0.005260 -0.039856  0.052399   9.551363  0.759247  \n",
              "2448  4.614221e-07  0.006836 -0.064178  0.084045  22.517991  1.073633  \n",
              "2449 -8.219263e-06  0.015384 -0.093079  0.097260   4.964319 -0.005821  \n",
              "2450 -4.400898e-06  0.005182 -0.057556  0.052002  13.855588 -0.110966  \n",
              "2451  6.342640e-07  0.010001 -0.081512  0.103027  12.973181  1.032081  \n",
              "\n",
              "[5 rows x 38 columns]"
            ],
            "text/html": [
              "\n",
              "  <div id=\"df-e687c825-c070-4637-9817-701b2fbedcc1\">\n",
              "    <div class=\"colab-df-container\">\n",
              "      <div>\n",
              "<style scoped>\n",
              "    .dataframe tbody tr th:only-of-type {\n",
              "        vertical-align: middle;\n",
              "    }\n",
              "\n",
              "    .dataframe tbody tr th {\n",
              "        vertical-align: top;\n",
              "    }\n",
              "\n",
              "    .dataframe thead th {\n",
              "        text-align: right;\n",
              "    }\n",
              "</style>\n",
              "<table border=\"1\" class=\"dataframe\">\n",
              "  <thead>\n",
              "    <tr style=\"text-align: right;\">\n",
              "      <th></th>\n",
              "      <th>modality</th>\n",
              "      <th>vocal_channel</th>\n",
              "      <th>emotion</th>\n",
              "      <th>emotional_intensity</th>\n",
              "      <th>statement</th>\n",
              "      <th>repetition</th>\n",
              "      <th>actor</th>\n",
              "      <th>sex</th>\n",
              "      <th>channels</th>\n",
              "      <th>sample_width</th>\n",
              "      <th>...</th>\n",
              "      <th>stft_min</th>\n",
              "      <th>stft_max</th>\n",
              "      <th>stft_kur</th>\n",
              "      <th>stft_skew</th>\n",
              "      <th>mean</th>\n",
              "      <th>std</th>\n",
              "      <th>min</th>\n",
              "      <th>max</th>\n",
              "      <th>kur</th>\n",
              "      <th>skew</th>\n",
              "    </tr>\n",
              "  </thead>\n",
              "  <tbody>\n",
              "    <tr>\n",
              "      <th>2447</th>\n",
              "      <td>audio-only</td>\n",
              "      <td>speech</td>\n",
              "      <td>calm</td>\n",
              "      <td>strong</td>\n",
              "      <td>Kids are talking by the door</td>\n",
              "      <td>1st</td>\n",
              "      <td>23.0</td>\n",
              "      <td>M</td>\n",
              "      <td>1</td>\n",
              "      <td>2</td>\n",
              "      <td>...</td>\n",
              "      <td>0.000000</td>\n",
              "      <td>1.0</td>\n",
              "      <td>-1.075888</td>\n",
              "      <td>-0.310088</td>\n",
              "      <td>9.367040e-07</td>\n",
              "      <td>0.005260</td>\n",
              "      <td>-0.039856</td>\n",
              "      <td>0.052399</td>\n",
              "      <td>9.551363</td>\n",
              "      <td>0.759247</td>\n",
              "    </tr>\n",
              "    <tr>\n",
              "      <th>2448</th>\n",
              "      <td>audio-only</td>\n",
              "      <td>speech</td>\n",
              "      <td>calm</td>\n",
              "      <td>normal</td>\n",
              "      <td>Dogs are sitting by the door</td>\n",
              "      <td>1st</td>\n",
              "      <td>23.0</td>\n",
              "      <td>M</td>\n",
              "      <td>1</td>\n",
              "      <td>2</td>\n",
              "      <td>...</td>\n",
              "      <td>0.000000</td>\n",
              "      <td>1.0</td>\n",
              "      <td>-1.026071</td>\n",
              "      <td>-0.408018</td>\n",
              "      <td>4.614221e-07</td>\n",
              "      <td>0.006836</td>\n",
              "      <td>-0.064178</td>\n",
              "      <td>0.084045</td>\n",
              "      <td>22.517991</td>\n",
              "      <td>1.073633</td>\n",
              "    </tr>\n",
              "    <tr>\n",
              "      <th>2449</th>\n",
              "      <td>audio-only</td>\n",
              "      <td>song</td>\n",
              "      <td>sad</td>\n",
              "      <td>strong</td>\n",
              "      <td>Dogs are sitting by the door</td>\n",
              "      <td>2nd</td>\n",
              "      <td>23.0</td>\n",
              "      <td>M</td>\n",
              "      <td>1</td>\n",
              "      <td>2</td>\n",
              "      <td>...</td>\n",
              "      <td>0.000000</td>\n",
              "      <td>1.0</td>\n",
              "      <td>-1.473789</td>\n",
              "      <td>0.130310</td>\n",
              "      <td>-8.219263e-06</td>\n",
              "      <td>0.015384</td>\n",
              "      <td>-0.093079</td>\n",
              "      <td>0.097260</td>\n",
              "      <td>4.964319</td>\n",
              "      <td>-0.005821</td>\n",
              "    </tr>\n",
              "    <tr>\n",
              "      <th>2450</th>\n",
              "      <td>audio-only</td>\n",
              "      <td>speech</td>\n",
              "      <td>surprised</td>\n",
              "      <td>normal</td>\n",
              "      <td>Kids are talking by the door</td>\n",
              "      <td>1st</td>\n",
              "      <td>NaN</td>\n",
              "      <td>M</td>\n",
              "      <td>1</td>\n",
              "      <td>2</td>\n",
              "      <td>...</td>\n",
              "      <td>0.001565</td>\n",
              "      <td>1.0</td>\n",
              "      <td>-1.277117</td>\n",
              "      <td>-0.242668</td>\n",
              "      <td>-4.400898e-06</td>\n",
              "      <td>0.005182</td>\n",
              "      <td>-0.057556</td>\n",
              "      <td>0.052002</td>\n",
              "      <td>13.855588</td>\n",
              "      <td>-0.110966</td>\n",
              "    </tr>\n",
              "    <tr>\n",
              "      <th>2451</th>\n",
              "      <td>audio-only</td>\n",
              "      <td>NaN</td>\n",
              "      <td>neutral</td>\n",
              "      <td>normal</td>\n",
              "      <td>Dogs are sitting by the door</td>\n",
              "      <td>2nd</td>\n",
              "      <td>23.0</td>\n",
              "      <td>M</td>\n",
              "      <td>1</td>\n",
              "      <td>2</td>\n",
              "      <td>...</td>\n",
              "      <td>0.000000</td>\n",
              "      <td>1.0</td>\n",
              "      <td>-1.257666</td>\n",
              "      <td>-0.237757</td>\n",
              "      <td>6.342640e-07</td>\n",
              "      <td>0.010001</td>\n",
              "      <td>-0.081512</td>\n",
              "      <td>0.103027</td>\n",
              "      <td>12.973181</td>\n",
              "      <td>1.032081</td>\n",
              "    </tr>\n",
              "  </tbody>\n",
              "</table>\n",
              "<p>5 rows × 38 columns</p>\n",
              "</div>\n",
              "      <button class=\"colab-df-convert\" onclick=\"convertToInteractive('df-e687c825-c070-4637-9817-701b2fbedcc1')\"\n",
              "              title=\"Convert this dataframe to an interactive table.\"\n",
              "              style=\"display:none;\">\n",
              "        \n",
              "  <svg xmlns=\"http://www.w3.org/2000/svg\" height=\"24px\"viewBox=\"0 0 24 24\"\n",
              "       width=\"24px\">\n",
              "    <path d=\"M0 0h24v24H0V0z\" fill=\"none\"/>\n",
              "    <path d=\"M18.56 5.44l.94 2.06.94-2.06 2.06-.94-2.06-.94-.94-2.06-.94 2.06-2.06.94zm-11 1L8.5 8.5l.94-2.06 2.06-.94-2.06-.94L8.5 2.5l-.94 2.06-2.06.94zm10 10l.94 2.06.94-2.06 2.06-.94-2.06-.94-.94-2.06-.94 2.06-2.06.94z\"/><path d=\"M17.41 7.96l-1.37-1.37c-.4-.4-.92-.59-1.43-.59-.52 0-1.04.2-1.43.59L10.3 9.45l-7.72 7.72c-.78.78-.78 2.05 0 2.83L4 21.41c.39.39.9.59 1.41.59.51 0 1.02-.2 1.41-.59l7.78-7.78 2.81-2.81c.8-.78.8-2.07 0-2.86zM5.41 20L4 18.59l7.72-7.72 1.47 1.35L5.41 20z\"/>\n",
              "  </svg>\n",
              "      </button>\n",
              "      \n",
              "  <style>\n",
              "    .colab-df-container {\n",
              "      display:flex;\n",
              "      flex-wrap:wrap;\n",
              "      gap: 12px;\n",
              "    }\n",
              "\n",
              "    .colab-df-convert {\n",
              "      background-color: #E8F0FE;\n",
              "      border: none;\n",
              "      border-radius: 50%;\n",
              "      cursor: pointer;\n",
              "      display: none;\n",
              "      fill: #1967D2;\n",
              "      height: 32px;\n",
              "      padding: 0 0 0 0;\n",
              "      width: 32px;\n",
              "    }\n",
              "\n",
              "    .colab-df-convert:hover {\n",
              "      background-color: #E2EBFA;\n",
              "      box-shadow: 0px 1px 2px rgba(60, 64, 67, 0.3), 0px 1px 3px 1px rgba(60, 64, 67, 0.15);\n",
              "      fill: #174EA6;\n",
              "    }\n",
              "\n",
              "    [theme=dark] .colab-df-convert {\n",
              "      background-color: #3B4455;\n",
              "      fill: #D2E3FC;\n",
              "    }\n",
              "\n",
              "    [theme=dark] .colab-df-convert:hover {\n",
              "      background-color: #434B5C;\n",
              "      box-shadow: 0px 1px 3px 1px rgba(0, 0, 0, 0.15);\n",
              "      filter: drop-shadow(0px 1px 2px rgba(0, 0, 0, 0.3));\n",
              "      fill: #FFFFFF;\n",
              "    }\n",
              "  </style>\n",
              "\n",
              "      <script>\n",
              "        const buttonEl =\n",
              "          document.querySelector('#df-e687c825-c070-4637-9817-701b2fbedcc1 button.colab-df-convert');\n",
              "        buttonEl.style.display =\n",
              "          google.colab.kernel.accessAllowed ? 'block' : 'none';\n",
              "\n",
              "        async function convertToInteractive(key) {\n",
              "          const element = document.querySelector('#df-e687c825-c070-4637-9817-701b2fbedcc1');\n",
              "          const dataTable =\n",
              "            await google.colab.kernel.invokeFunction('convertToInteractive',\n",
              "                                                     [key], {});\n",
              "          if (!dataTable) return;\n",
              "\n",
              "          const docLinkHtml = 'Like what you see? Visit the ' +\n",
              "            '<a target=\"_blank\" href=https://colab.research.google.com/notebooks/data_table.ipynb>data table notebook</a>'\n",
              "            + ' to learn more about interactive tables.';\n",
              "          element.innerHTML = '';\n",
              "          dataTable['output_type'] = 'display_data';\n",
              "          await google.colab.output.renderOutput(dataTable, element);\n",
              "          const docLink = document.createElement('div');\n",
              "          docLink.innerHTML = docLinkHtml;\n",
              "          element.appendChild(docLink);\n",
              "        }\n",
              "      </script>\n",
              "    </div>\n",
              "  </div>\n",
              "  "
            ]
          },
          "metadata": {},
          "execution_count": 5
        }
      ]
    },
    {
      "cell_type": "code",
      "source": [
        "df.columns"
      ],
      "metadata": {
        "colab": {
          "base_uri": "https://localhost:8080/"
        },
        "id": "FuDtKMsRIOtw",
        "outputId": "53d246ba-3219-4ff8-d24b-bd25ee62ee8a"
      },
      "execution_count": 6,
      "outputs": [
        {
          "output_type": "execute_result",
          "data": {
            "text/plain": [
              "Index(['modality', 'vocal_channel', 'emotion', 'emotional_intensity',\n",
              "       'statement', 'repetition', 'actor', 'sex', 'channels', 'sample_width',\n",
              "       'frame_rate', 'frame_width', 'length_ms', 'frame_count', 'intensity',\n",
              "       'zero_crossings_sum', 'mfcc_mean', 'mfcc_std', 'mfcc_min', 'mfcc_max',\n",
              "       'sc_mean', 'sc_std', 'sc_min', 'sc_max', 'sc_kur', 'sc_skew',\n",
              "       'stft_mean', 'stft_std', 'stft_min', 'stft_max', 'stft_kur',\n",
              "       'stft_skew', 'mean', 'std', 'min', 'max', 'kur', 'skew'],\n",
              "      dtype='object')"
            ]
          },
          "metadata": {},
          "execution_count": 6
        }
      ]
    },
    {
      "cell_type": "markdown",
      "source": [
        "# Exploratory Data Analysis"
      ],
      "metadata": {
        "id": "CghHFa4iJFJA"
      }
    },
    {
      "cell_type": "markdown",
      "source": [
        "## Univariate Data Analysis"
      ],
      "metadata": {
        "id": "PPeZV5oOFNRq"
      }
    },
    {
      "cell_type": "code",
      "source": [
        "#Information about the dataset\n",
        "df.info()"
      ],
      "metadata": {
        "colab": {
          "base_uri": "https://localhost:8080/"
        },
        "id": "RI087Xh6JHCj",
        "outputId": "1433a72b-a928-4362-9540-0671ab48c3de"
      },
      "execution_count": 8,
      "outputs": [
        {
          "output_type": "stream",
          "name": "stdout",
          "text": [
            "<class 'pandas.core.frame.DataFrame'>\n",
            "RangeIndex: 2452 entries, 0 to 2451\n",
            "Data columns (total 38 columns):\n",
            " #   Column               Non-Null Count  Dtype  \n",
            "---  ------               --------------  -----  \n",
            " 0   modality             2452 non-null   object \n",
            " 1   vocal_channel        2256 non-null   object \n",
            " 2   emotion              2452 non-null   object \n",
            " 3   emotional_intensity  2452 non-null   object \n",
            " 4   statement            2452 non-null   object \n",
            " 5   repetition           2452 non-null   object \n",
            " 6   actor                1326 non-null   float64\n",
            " 7   sex                  2452 non-null   object \n",
            " 8   channels             2452 non-null   int64  \n",
            " 9   sample_width         2452 non-null   int64  \n",
            " 10  frame_rate           2452 non-null   int64  \n",
            " 11  frame_width          2452 non-null   int64  \n",
            " 12  length_ms            2452 non-null   int64  \n",
            " 13  frame_count          2452 non-null   float64\n",
            " 14  intensity            1636 non-null   float64\n",
            " 15  zero_crossings_sum   2452 non-null   int64  \n",
            " 16  mfcc_mean            2452 non-null   float64\n",
            " 17  mfcc_std             2452 non-null   float64\n",
            " 18  mfcc_min             2452 non-null   float64\n",
            " 19  mfcc_max             2452 non-null   float64\n",
            " 20  sc_mean              2452 non-null   float64\n",
            " 21  sc_std               2452 non-null   float64\n",
            " 22  sc_min               2452 non-null   float64\n",
            " 23  sc_max               2452 non-null   float64\n",
            " 24  sc_kur               2452 non-null   float64\n",
            " 25  sc_skew              2452 non-null   float64\n",
            " 26  stft_mean            2452 non-null   float64\n",
            " 27  stft_std             2452 non-null   float64\n",
            " 28  stft_min             2452 non-null   float64\n",
            " 29  stft_max             2452 non-null   float64\n",
            " 30  stft_kur             2452 non-null   float64\n",
            " 31  stft_skew            2452 non-null   float64\n",
            " 32  mean                 2452 non-null   float64\n",
            " 33  std                  2452 non-null   float64\n",
            " 34  min                  2452 non-null   float64\n",
            " 35  max                  2452 non-null   float64\n",
            " 36  kur                  2452 non-null   float64\n",
            " 37  skew                 2452 non-null   float64\n",
            "dtypes: float64(25), int64(6), object(7)\n",
            "memory usage: 728.1+ KB\n"
          ]
        }
      ]
    },
    {
      "cell_type": "code",
      "source": [
        "#No of Rows/records and cols/attributes\n",
        "df.shape"
      ],
      "metadata": {
        "colab": {
          "base_uri": "https://localhost:8080/"
        },
        "id": "sUHD4z-MJ4Ye",
        "outputId": "dd1d3284-3a58-4894-fb87-ebb486f69b15"
      },
      "execution_count": 9,
      "outputs": [
        {
          "output_type": "execute_result",
          "data": {
            "text/plain": [
              "(2452, 38)"
            ]
          },
          "metadata": {},
          "execution_count": 9
        }
      ]
    },
    {
      "cell_type": "markdown",
      "source": [
        "**1) Checking the vocal_channel Variable**"
      ],
      "metadata": {
        "id": "NPxr0puOzkNn"
      }
    },
    {
      "cell_type": "code",
      "source": [
        "#Checking the unique values inside the modality variable using .unqiue() function\n",
        "df[\"modality\"].unique()"
      ],
      "metadata": {
        "colab": {
          "base_uri": "https://localhost:8080/"
        },
        "id": "yePjrFDUzcB0",
        "outputId": "8ba0230e-9b88-4a75-d414-92c97dc6a761"
      },
      "execution_count": 10,
      "outputs": [
        {
          "output_type": "execute_result",
          "data": {
            "text/plain": [
              "array(['audio-only'], dtype=object)"
            ]
          },
          "metadata": {},
          "execution_count": 10
        }
      ]
    },
    {
      "cell_type": "markdown",
      "source": [
        "Since, there is only one value present in this variable which is not useful at for. Therefore, neither any analysis nor anything else would be done for this variable and it would be dropped at the later stage."
      ],
      "metadata": {
        "id": "tGwS3A4BzyuL"
      }
    },
    {
      "cell_type": "markdown",
      "source": [
        "**1) Checking the vocal_channel Variable**"
      ],
      "metadata": {
        "id": "K6I5Lxnk0Vn4"
      }
    },
    {
      "cell_type": "code",
      "source": [
        "#Checking the unique values inside the modality variable using .unqiue() function\n",
        "df[\"vocal_channel\"].unique()"
      ],
      "metadata": {
        "colab": {
          "base_uri": "https://localhost:8080/"
        },
        "id": "5lfArlff0I0R",
        "outputId": "185997dc-c552-4259-d75e-b85b67ce777a"
      },
      "execution_count": 11,
      "outputs": [
        {
          "output_type": "execute_result",
          "data": {
            "text/plain": [
              "array(['speech', nan, 'song'], dtype=object)"
            ]
          },
          "metadata": {},
          "execution_count": 11
        }
      ]
    },
    {
      "cell_type": "markdown",
      "source": [
        "There are three two different values inside this variable: Speech and Song, and there are some missing values as well. Let's look for their distribution using the countplot"
      ],
      "metadata": {
        "id": "oC5nKS4b0g7l"
      }
    },
    {
      "cell_type": "code",
      "source": [
        "# Writing a function to output count plot \n",
        "def countplot_sns(attribute,title):\n",
        "  _=plt.figure(figsize=(12,7))\n",
        "  ax = sns.countplot(x=attribute,\n",
        "                     order=attribute.value_counts(ascending=False).index);\n",
        "  abs_values = attribute.value_counts(ascending=False)\n",
        "  rel_values = attribute.value_counts(ascending=False, normalize=True).values * 100\n",
        "  lbls = [f'{p[0]} ({p[1]:.0f}%)' for p in zip(abs_values, rel_values)]\n",
        "\n",
        "  _=ax.bar_label(container=ax.containers[0], labels=lbls)\n",
        "  _=plt.title(title)"
      ],
      "metadata": {
        "id": "cKqqvm-mFYix"
      },
      "execution_count": 12,
      "outputs": []
    },
    {
      "cell_type": "code",
      "source": [
        "#\n",
        "\n",
        "# _=plt.figure(figsize=(12,7))\n",
        "# ax = sns.countplot(x=df[\"vocal_channel\"],\n",
        "#                    order=df[\"vocal_channel\"].value_counts(ascending=False).index);\n",
        "        \n",
        "# abs_values = df[\"vocal_channel\"].value_counts(ascending=False)\n",
        "# rel_values = df[\"vocal_channel\"].value_counts(ascending=False, normalize=True).values * 100\n",
        "# lbls = [f'{p[0]} ({p[1]:.0f}%)' for p in zip(abs_values, rel_values)]\n",
        "\n",
        "# _=ax.bar_label(container=ax.containers[0], labels=lbls)\n",
        "# _=plt.title(\"Distribution of Vocal Channel\")\n",
        "\n",
        "\n",
        "countplot_sns(df[\"vocal_channel\"],\"Distribution of Vocal Channel Variable\")"
      ],
      "metadata": {
        "colab": {
          "base_uri": "https://localhost:8080/",
          "height": 464
        },
        "id": "_EWH56hz0gnM",
        "outputId": "08879513-548e-471a-efff-a00b1a701553"
      },
      "execution_count": 13,
      "outputs": [
        {
          "output_type": "display_data",
          "data": {
            "text/plain": [
              "<Figure size 864x504 with 1 Axes>"
            ],
            "image/png": "[encoded data removed]"
          },
          "metadata": {}
        }
      ]
    },
    {
      "cell_type": "code",
      "source": [
        "#Let's find the percentage of Null Values inside this variable\n",
        "nan_percent_vocal=(df[\"vocal_channel\"].isna().sum())/df.shape[0]\n",
        "print(\"The percentage of Null Values inside the variable : \", round(nan_percent_vocal,2)*100 , \"%\")"
      ],
      "metadata": {
        "colab": {
          "base_uri": "https://localhost:8080/"
        },
        "id": "MaASpf6G3Bkw",
        "outputId": "c8de6415-9f32-4579-9771-a0f332de4fea"
      },
      "execution_count": 14,
      "outputs": [
        {
          "output_type": "stream",
          "name": "stdout",
          "text": [
            "The percentage of Null Values inside the variable :  8.0 %\n"
          ]
        }
      ]
    },
    {
      "cell_type": "markdown",
      "source": [
        "There are only 8 percent of null values inside this variables. In the later stages, something would be done about this: either filling it up with some value(s) or dropping it"
      ],
      "metadata": {
        "id": "fJbSIXVh390Z"
      }
    },
    {
      "cell_type": "markdown",
      "source": [
        "**1) Checking the emotion Variable**"
      ],
      "metadata": {
        "id": "07TVexO8At1y"
      }
    },
    {
      "cell_type": "code",
      "source": [
        "df[\"emotion\"].unique()"
      ],
      "metadata": {
        "colab": {
          "base_uri": "https://localhost:8080/"
        },
        "id": "4BUW0FcJ9aye",
        "outputId": "64879b97-2140-4e29-b487-f923181f3b0c"
      },
      "execution_count": 15,
      "outputs": [
        {
          "output_type": "execute_result",
          "data": {
            "text/plain": [
              "array(['fearful', 'angry', 'happy', 'surprised', 'neutral', 'calm', 'sad',\n",
              "       'disgust'], dtype=object)"
            ]
          },
          "metadata": {},
          "execution_count": 15
        }
      ]
    },
    {
      "cell_type": "code",
      "source": [
        "#\n",
        "\n",
        "countplot_sns(df[\"emotion\"],\"Distribution of Emotion Variable\")"
      ],
      "metadata": {
        "colab": {
          "base_uri": "https://localhost:8080/",
          "height": 464
        },
        "id": "mlEvXBmwAw93",
        "outputId": "b2279548-089c-4948-972e-92df0f71b2a7"
      },
      "execution_count": null,
      "outputs": [
        {
          "output_type": "display_data",
          "data": {
            "text/plain": [
              "<Figure size 864x504 with 1 Axes>"
            ],
            "image/png": "[encoded data removed]"
          },
          "metadata": {}
        }
      ]
    },
    {
      "cell_type": "code",
      "source": [
        "df[\"emotion\"].isna().sum()"
      ],
      "metadata": {
        "colab": {
          "base_uri": "https://localhost:8080/"
        },
        "id": "lCtTpuIBDLYw",
        "outputId": "35f2d330-56a0-4d15-d4a2-1d4ba7f5d3ce"
      },
      "execution_count": null,
      "outputs": [
        {
          "output_type": "execute_result",
          "data": {
            "text/plain": [
              "0"
            ]
          },
          "metadata": {},
          "execution_count": 47
        }
      ]
    },
    {
      "cell_type": "code",
      "source": [
        "#Using .query() function to check whether the emotion variable has blank or hyphens which could be equivalent to Nulls\n",
        "df.query(\"emotion == ' ' or emotion == '-'\")"
      ],
      "metadata": {
        "colab": {
          "base_uri": "https://localhost:8080/",
          "height": 143
        },
        "id": "mG7OjsHrDQA_",
        "outputId": "0f7e9dcd-9814-4290-9de4-753e28fe066a"
      },
      "execution_count": null,
      "outputs": [
        {
          "output_type": "execute_result",
          "data": {
            "text/plain": [
              "Empty DataFrame\n",
              "Columns: [modality, vocal_channel, emotion, emotional_intensity, statement, repetition, actor, sex, channels, sample_width, frame_rate, frame_width, length_ms, frame_count, intensity, zero_crossings_sum, mfcc_mean, mfcc_std, mfcc_min, mfcc_max, sc_mean, sc_std, sc_min, sc_max, sc_kur, sc_skew, stft_mean, stft_std, stft_min, stft_max, stft_kur, stft_skew, mean, std, min, max, kur, skew]\n",
              "Index: []\n",
              "\n",
              "[0 rows x 38 columns]"
            ],
            "text/html": [
              "\n",
              "  <div id=\"df-7e6dc299-eb51-4038-921b-ddf05175315e\">\n",
              "    <div class=\"colab-df-container\">\n",
              "      <div>\n",
              "<style scoped>\n",
              "    .dataframe tbody tr th:only-of-type {\n",
              "        vertical-align: middle;\n",
              "    }\n",
              "\n",
              "    .dataframe tbody tr th {\n",
              "        vertical-align: top;\n",
              "    }\n",
              "\n",
              "    .dataframe thead th {\n",
              "        text-align: right;\n",
              "    }\n",
              "</style>\n",
              "<table border=\"1\" class=\"dataframe\">\n",
              "  <thead>\n",
              "    <tr style=\"text-align: right;\">\n",
              "      <th></th>\n",
              "      <th>modality</th>\n",
              "      <th>vocal_channel</th>\n",
              "      <th>emotion</th>\n",
              "      <th>emotional_intensity</th>\n",
              "      <th>statement</th>\n",
              "      <th>repetition</th>\n",
              "      <th>actor</th>\n",
              "      <th>sex</th>\n",
              "      <th>channels</th>\n",
              "      <th>sample_width</th>\n",
              "      <th>...</th>\n",
              "      <th>stft_min</th>\n",
              "      <th>stft_max</th>\n",
              "      <th>stft_kur</th>\n",
              "      <th>stft_skew</th>\n",
              "      <th>mean</th>\n",
              "      <th>std</th>\n",
              "      <th>min</th>\n",
              "      <th>max</th>\n",
              "      <th>kur</th>\n",
              "      <th>skew</th>\n",
              "    </tr>\n",
              "  </thead>\n",
              "  <tbody>\n",
              "  </tbody>\n",
              "</table>\n",
              "<p>0 rows × 38 columns</p>\n",
              "</div>\n",
              "      <button class=\"colab-df-convert\" onclick=\"convertToInteractive('df-7e6dc299-eb51-4038-921b-ddf05175315e')\"\n",
              "              title=\"Convert this dataframe to an interactive table.\"\n",
              "              style=\"display:none;\">\n",
              "        \n",
              "  <svg xmlns=\"http://www.w3.org/2000/svg\" height=\"24px\"viewBox=\"0 0 24 24\"\n",
              "       width=\"24px\">\n",
              "    <path d=\"M0 0h24v24H0V0z\" fill=\"none\"/>\n",
              "    <path d=\"M18.56 5.44l.94 2.06.94-2.06 2.06-.94-2.06-.94-.94-2.06-.94 2.06-2.06.94zm-11 1L8.5 8.5l.94-2.06 2.06-.94-2.06-.94L8.5 2.5l-.94 2.06-2.06.94zm10 10l.94 2.06.94-2.06 2.06-.94-2.06-.94-.94-2.06-.94 2.06-2.06.94z\"/><path d=\"M17.41 7.96l-1.37-1.37c-.4-.4-.92-.59-1.43-.59-.52 0-1.04.2-1.43.59L10.3 9.45l-7.72 7.72c-.78.78-.78 2.05 0 2.83L4 21.41c.39.39.9.59 1.41.59.51 0 1.02-.2 1.41-.59l7.78-7.78 2.81-2.81c.8-.78.8-2.07 0-2.86zM5.41 20L4 18.59l7.72-7.72 1.47 1.35L5.41 20z\"/>\n",
              "  </svg>\n",
              "      </button>\n",
              "      \n",
              "  <style>\n",
              "    .colab-df-container {\n",
              "      display:flex;\n",
              "      flex-wrap:wrap;\n",
              "      gap: 12px;\n",
              "    }\n",
              "\n",
              "    .colab-df-convert {\n",
              "      background-color: #E8F0FE;\n",
              "      border: none;\n",
              "      border-radius: 50%;\n",
              "      cursor: pointer;\n",
              "      display: none;\n",
              "      fill: #1967D2;\n",
              "      height: 32px;\n",
              "      padding: 0 0 0 0;\n",
              "      width: 32px;\n",
              "    }\n",
              "\n",
              "    .colab-df-convert:hover {\n",
              "      background-color: #E2EBFA;\n",
              "      box-shadow: 0px 1px 2px rgba(60, 64, 67, 0.3), 0px 1px 3px 1px rgba(60, 64, 67, 0.15);\n",
              "      fill: #174EA6;\n",
              "    }\n",
              "\n",
              "    [theme=dark] .colab-df-convert {\n",
              "      background-color: #3B4455;\n",
              "      fill: #D2E3FC;\n",
              "    }\n",
              "\n",
              "    [theme=dark] .colab-df-convert:hover {\n",
              "      background-color: #434B5C;\n",
              "      box-shadow: 0px 1px 3px 1px rgba(0, 0, 0, 0.15);\n",
              "      filter: drop-shadow(0px 1px 2px rgba(0, 0, 0, 0.3));\n",
              "      fill: #FFFFFF;\n",
              "    }\n",
              "  </style>\n",
              "\n",
              "      <script>\n",
              "        const buttonEl =\n",
              "          document.querySelector('#df-7e6dc299-eb51-4038-921b-ddf05175315e button.colab-df-convert');\n",
              "        buttonEl.style.display =\n",
              "          google.colab.kernel.accessAllowed ? 'block' : 'none';\n",
              "\n",
              "        async function convertToInteractive(key) {\n",
              "          const element = document.querySelector('#df-7e6dc299-eb51-4038-921b-ddf05175315e');\n",
              "          const dataTable =\n",
              "            await google.colab.kernel.invokeFunction('convertToInteractive',\n",
              "                                                     [key], {});\n",
              "          if (!dataTable) return;\n",
              "\n",
              "          const docLinkHtml = 'Like what you see? Visit the ' +\n",
              "            '<a target=\"_blank\" href=https://colab.research.google.com/notebooks/data_table.ipynb>data table notebook</a>'\n",
              "            + ' to learn more about interactive tables.';\n",
              "          element.innerHTML = '';\n",
              "          dataTable['output_type'] = 'display_data';\n",
              "          await google.colab.output.renderOutput(dataTable, element);\n",
              "          const docLink = document.createElement('div');\n",
              "          docLink.innerHTML = docLinkHtml;\n",
              "          element.appendChild(docLink);\n",
              "        }\n",
              "      </script>\n",
              "    </div>\n",
              "  </div>\n",
              "  "
            ]
          },
          "metadata": {},
          "execution_count": 63
        }
      ]
    },
    {
      "cell_type": "markdown",
      "source": [
        "**1) Checking the emotional intensity Variable**"
      ],
      "metadata": {
        "id": "niRFuNVMCxEj"
      }
    },
    {
      "cell_type": "code",
      "source": [
        "df[\"emotional_intensity\"].unique()"
      ],
      "metadata": {
        "colab": {
          "base_uri": "https://localhost:8080/"
        },
        "id": "gbVoSyFhB_Y5",
        "outputId": "90f5cc27-1df0-4785-9f7a-8fa68fa48cf7"
      },
      "execution_count": null,
      "outputs": [
        {
          "output_type": "execute_result",
          "data": {
            "text/plain": [
              "array(['normal', 'strong'], dtype=object)"
            ]
          },
          "metadata": {},
          "execution_count": 37
        }
      ]
    },
    {
      "cell_type": "code",
      "source": [
        "#\n",
        "\n",
        "countplot_sns(df[\"emotional_intensity\"],\"Distribution of Emotional Intensity Variable\")"
      ],
      "metadata": {
        "colab": {
          "base_uri": "https://localhost:8080/",
          "height": 464
        },
        "id": "JMdaRNNhCqBY",
        "outputId": "2a7daacb-df6f-4d2f-8868-b6e41f09e31b"
      },
      "execution_count": null,
      "outputs": [
        {
          "output_type": "display_data",
          "data": {
            "text/plain": [
              "<Figure size 864x504 with 1 Axes>"
            ],
            "image/png": "[encoded data removed]"
          },
          "metadata": {}
        }
      ]
    },
    {
      "cell_type": "code",
      "source": [
        "df[\"emotional_intensity\"].isna().sum()"
      ],
      "metadata": {
        "colab": {
          "base_uri": "https://localhost:8080/"
        },
        "id": "KyxqrU4tC8I1",
        "outputId": "fa5bc51d-8ee3-4ae5-ceec-615594522b43"
      },
      "execution_count": null,
      "outputs": [
        {
          "output_type": "execute_result",
          "data": {
            "text/plain": [
              "0"
            ]
          },
          "metadata": {},
          "execution_count": 53
        }
      ]
    },
    {
      "cell_type": "markdown",
      "source": [
        "**Checking the Statement Variable**"
      ],
      "metadata": {
        "id": "jvHatI_5E7zd"
      }
    },
    {
      "cell_type": "code",
      "source": [
        "df[\"statement\"].unique()"
      ],
      "metadata": {
        "colab": {
          "base_uri": "https://localhost:8080/"
        },
        "id": "IsDhFUf_Ezjx",
        "outputId": "1657e9f2-15ad-4f1b-a2b2-b1f4a7d04ce2"
      },
      "execution_count": null,
      "outputs": [
        {
          "output_type": "execute_result",
          "data": {
            "text/plain": [
              "array(['Dogs are sitting by the door', 'Kids are talking by the door'],\n",
              "      dtype=object)"
            ]
          },
          "metadata": {},
          "execution_count": 58
        }
      ]
    },
    {
      "cell_type": "code",
      "source": [
        "#\n",
        "\n",
        "countplot_sns(df[\"statement\"],\"Distribution of Statements Variables\")"
      ],
      "metadata": {
        "colab": {
          "base_uri": "https://localhost:8080/",
          "height": 464
        },
        "id": "aZd4T-jTE53j",
        "outputId": "d32d32b5-815c-403f-a261-fcf0b791cd02"
      },
      "execution_count": null,
      "outputs": [
        {
          "output_type": "display_data",
          "data": {
            "text/plain": [
              "<Figure size 864x504 with 1 Axes>"
            ],
            "image/png": "[encoded data removed]"
          },
          "metadata": {}
        }
      ]
    },
    {
      "cell_type": "markdown",
      "source": [
        "**Checking the repitition Variable**"
      ],
      "metadata": {
        "id": "O-9SwwdBHLNf"
      }
    },
    {
      "cell_type": "code",
      "source": [
        "df[\"repetition\"].unique()"
      ],
      "metadata": {
        "colab": {
          "base_uri": "https://localhost:8080/"
        },
        "id": "Dii-TZYTGq0n",
        "outputId": "3481828f-3a44-4f83-993a-5429a5be4e04"
      },
      "execution_count": null,
      "outputs": [
        {
          "output_type": "execute_result",
          "data": {
            "text/plain": [
              "array(['2nd', '1st'], dtype=object)"
            ]
          },
          "metadata": {},
          "execution_count": 70
        }
      ]
    },
    {
      "cell_type": "code",
      "source": [
        "#\n",
        "\n",
        "countplot_sns(df[\"repetition\"],\"Distribution of Repitition Variable\")"
      ],
      "metadata": {
        "colab": {
          "base_uri": "https://localhost:8080/",
          "height": 464
        },
        "id": "FNPsx2iNHvyM",
        "outputId": "4023e28f-2728-49a2-fe73-e802508b641e"
      },
      "execution_count": null,
      "outputs": [
        {
          "output_type": "display_data",
          "data": {
            "text/plain": [
              "<Figure size 864x504 with 1 Axes>"
            ],
            "image/png": "[encoded data removed]"
          },
          "metadata": {}
        }
      ]
    },
    {
      "cell_type": "markdown",
      "source": [
        "There is equal distribution of both the classes in this variable."
      ],
      "metadata": {
        "id": "QPyOQ3fdICiA"
      }
    },
    {
      "cell_type": "code",
      "source": [],
      "metadata": {
        "id": "qEnu_OaDIJkT"
      },
      "execution_count": null,
      "outputs": []
    }
  ]
}